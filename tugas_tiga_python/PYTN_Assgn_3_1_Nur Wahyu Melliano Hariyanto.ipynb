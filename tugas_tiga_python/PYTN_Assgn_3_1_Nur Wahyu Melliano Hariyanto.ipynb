{
 "cells": [
  {
   "cell_type": "markdown",
   "metadata": {},
   "source": [
    "#### Import Library"
   ]
  },
  {
   "cell_type": "code",
   "execution_count": 1,
   "metadata": {},
   "outputs": [],
   "source": [
    "import numpy as np\n",
    "import pandas as pd\n",
    "import matplotlib.pyplot as plt"
   ]
  },
  {
   "cell_type": "markdown",
   "metadata": {},
   "source": [
    "#### Import Dataset"
   ]
  },
  {
   "cell_type": "markdown",
   "metadata": {},
   "source": [
    "Dataset berikut terkait dengan kampanye pemasaran langsung dari lembaga perbankan Portugis. Dataset ini berisi label apakah para konsumen akan melakukan deposito atau tidak."
   ]
  },
  {
   "cell_type": "code",
   "execution_count": 2,
   "metadata": {},
   "outputs": [
    {
     "data": {
      "text/html": [
       "<div>\n",
       "<style scoped>\n",
       "    .dataframe tbody tr th:only-of-type {\n",
       "        vertical-align: middle;\n",
       "    }\n",
       "\n",
       "    .dataframe tbody tr th {\n",
       "        vertical-align: top;\n",
       "    }\n",
       "\n",
       "    .dataframe thead th {\n",
       "        text-align: right;\n",
       "    }\n",
       "</style>\n",
       "<table border=\"1\" class=\"dataframe\">\n",
       "  <thead>\n",
       "    <tr style=\"text-align: right;\">\n",
       "      <th></th>\n",
       "      <th>age</th>\n",
       "      <th>job</th>\n",
       "      <th>marital</th>\n",
       "      <th>education</th>\n",
       "      <th>default</th>\n",
       "      <th>balance</th>\n",
       "      <th>housing</th>\n",
       "      <th>loan</th>\n",
       "      <th>contact</th>\n",
       "      <th>day</th>\n",
       "      <th>month</th>\n",
       "      <th>duration</th>\n",
       "      <th>campaign</th>\n",
       "      <th>pdays</th>\n",
       "      <th>previous</th>\n",
       "      <th>poutcome</th>\n",
       "      <th>y</th>\n",
       "    </tr>\n",
       "  </thead>\n",
       "  <tbody>\n",
       "    <tr>\n",
       "      <th>0</th>\n",
       "      <td>58</td>\n",
       "      <td>management</td>\n",
       "      <td>married</td>\n",
       "      <td>tertiary</td>\n",
       "      <td>no</td>\n",
       "      <td>2143</td>\n",
       "      <td>yes</td>\n",
       "      <td>no</td>\n",
       "      <td>unknown</td>\n",
       "      <td>5</td>\n",
       "      <td>may</td>\n",
       "      <td>261</td>\n",
       "      <td>1</td>\n",
       "      <td>-1</td>\n",
       "      <td>0</td>\n",
       "      <td>unknown</td>\n",
       "      <td>no</td>\n",
       "    </tr>\n",
       "    <tr>\n",
       "      <th>1</th>\n",
       "      <td>44</td>\n",
       "      <td>technician</td>\n",
       "      <td>single</td>\n",
       "      <td>secondary</td>\n",
       "      <td>no</td>\n",
       "      <td>29</td>\n",
       "      <td>yes</td>\n",
       "      <td>no</td>\n",
       "      <td>unknown</td>\n",
       "      <td>5</td>\n",
       "      <td>may</td>\n",
       "      <td>151</td>\n",
       "      <td>1</td>\n",
       "      <td>-1</td>\n",
       "      <td>0</td>\n",
       "      <td>unknown</td>\n",
       "      <td>no</td>\n",
       "    </tr>\n",
       "    <tr>\n",
       "      <th>2</th>\n",
       "      <td>33</td>\n",
       "      <td>entrepreneur</td>\n",
       "      <td>married</td>\n",
       "      <td>secondary</td>\n",
       "      <td>no</td>\n",
       "      <td>2</td>\n",
       "      <td>yes</td>\n",
       "      <td>yes</td>\n",
       "      <td>unknown</td>\n",
       "      <td>5</td>\n",
       "      <td>may</td>\n",
       "      <td>76</td>\n",
       "      <td>1</td>\n",
       "      <td>-1</td>\n",
       "      <td>0</td>\n",
       "      <td>unknown</td>\n",
       "      <td>no</td>\n",
       "    </tr>\n",
       "    <tr>\n",
       "      <th>3</th>\n",
       "      <td>47</td>\n",
       "      <td>blue-collar</td>\n",
       "      <td>married</td>\n",
       "      <td>unknown</td>\n",
       "      <td>no</td>\n",
       "      <td>1506</td>\n",
       "      <td>yes</td>\n",
       "      <td>no</td>\n",
       "      <td>unknown</td>\n",
       "      <td>5</td>\n",
       "      <td>may</td>\n",
       "      <td>92</td>\n",
       "      <td>1</td>\n",
       "      <td>-1</td>\n",
       "      <td>0</td>\n",
       "      <td>unknown</td>\n",
       "      <td>no</td>\n",
       "    </tr>\n",
       "    <tr>\n",
       "      <th>4</th>\n",
       "      <td>33</td>\n",
       "      <td>unknown</td>\n",
       "      <td>single</td>\n",
       "      <td>unknown</td>\n",
       "      <td>no</td>\n",
       "      <td>1</td>\n",
       "      <td>no</td>\n",
       "      <td>no</td>\n",
       "      <td>unknown</td>\n",
       "      <td>5</td>\n",
       "      <td>may</td>\n",
       "      <td>198</td>\n",
       "      <td>1</td>\n",
       "      <td>-1</td>\n",
       "      <td>0</td>\n",
       "      <td>unknown</td>\n",
       "      <td>no</td>\n",
       "    </tr>\n",
       "  </tbody>\n",
       "</table>\n",
       "</div>"
      ],
      "text/plain": [
       "   age           job  marital  education default  balance housing loan  \\\n",
       "0   58    management  married   tertiary      no     2143     yes   no   \n",
       "1   44    technician   single  secondary      no       29     yes   no   \n",
       "2   33  entrepreneur  married  secondary      no        2     yes  yes   \n",
       "3   47   blue-collar  married    unknown      no     1506     yes   no   \n",
       "4   33       unknown   single    unknown      no        1      no   no   \n",
       "\n",
       "   contact  day month  duration  campaign  pdays  previous poutcome   y  \n",
       "0  unknown    5   may       261         1     -1         0  unknown  no  \n",
       "1  unknown    5   may       151         1     -1         0  unknown  no  \n",
       "2  unknown    5   may        76         1     -1         0  unknown  no  \n",
       "3  unknown    5   may        92         1     -1         0  unknown  no  \n",
       "4  unknown    5   may       198         1     -1         0  unknown  no  "
      ]
     },
     "execution_count": 2,
     "metadata": {},
     "output_type": "execute_result"
    }
   ],
   "source": [
    "df_bank = pd.read_csv(\"bank-full.csv\", sep=';')\n",
    "df_bank.head()"
   ]
  },
  {
   "cell_type": "markdown",
   "metadata": {},
   "source": [
    "Melihat informasi dari dataset, baik dari jumlah data, jumlah kolom dan tipe data pada masing-masing kolom"
   ]
  },
  {
   "cell_type": "code",
   "execution_count": 3,
   "metadata": {},
   "outputs": [
    {
     "name": "stdout",
     "output_type": "stream",
     "text": [
      "<class 'pandas.core.frame.DataFrame'>\n",
      "RangeIndex: 45211 entries, 0 to 45210\n",
      "Data columns (total 17 columns):\n",
      " #   Column     Non-Null Count  Dtype \n",
      "---  ------     --------------  ----- \n",
      " 0   age        45211 non-null  int64 \n",
      " 1   job        45211 non-null  object\n",
      " 2   marital    45211 non-null  object\n",
      " 3   education  45211 non-null  object\n",
      " 4   default    45211 non-null  object\n",
      " 5   balance    45211 non-null  int64 \n",
      " 6   housing    45211 non-null  object\n",
      " 7   loan       45211 non-null  object\n",
      " 8   contact    45211 non-null  object\n",
      " 9   day        45211 non-null  int64 \n",
      " 10  month      45211 non-null  object\n",
      " 11  duration   45211 non-null  int64 \n",
      " 12  campaign   45211 non-null  int64 \n",
      " 13  pdays      45211 non-null  int64 \n",
      " 14  previous   45211 non-null  int64 \n",
      " 15  poutcome   45211 non-null  object\n",
      " 16  y          45211 non-null  object\n",
      "dtypes: int64(7), object(10)\n",
      "memory usage: 5.9+ MB\n"
     ]
    }
   ],
   "source": [
    "df_bank.info()"
   ]
  },
  {
   "cell_type": "markdown",
   "metadata": {},
   "source": [
    "Dikarenakan terdapat beberapa kolom yang tidak perlu digunakan, maka beberapa kolom disini akan dihapus.\n",
    "1. Untuk kolom yang berhubungan dengan waktu disini dihapus dikarenakan dari informasi pada sumber dataset dikatakan bahwa harus dibuang jika tujuannya adalah untuk memiliki model tipe prediksi.\n",
    "2. Untuk kolom education, contact, dan campaign disini tidak diperlukan karena biasanya tidak terlalu berpengaruh terhadap orang tersebut akan mendeposito"
   ]
  },
  {
   "cell_type": "code",
   "execution_count": 4,
   "metadata": {},
   "outputs": [
    {
     "data": {
      "text/html": [
       "<div>\n",
       "<style scoped>\n",
       "    .dataframe tbody tr th:only-of-type {\n",
       "        vertical-align: middle;\n",
       "    }\n",
       "\n",
       "    .dataframe tbody tr th {\n",
       "        vertical-align: top;\n",
       "    }\n",
       "\n",
       "    .dataframe thead th {\n",
       "        text-align: right;\n",
       "    }\n",
       "</style>\n",
       "<table border=\"1\" class=\"dataframe\">\n",
       "  <thead>\n",
       "    <tr style=\"text-align: right;\">\n",
       "      <th></th>\n",
       "      <th>age</th>\n",
       "      <th>job</th>\n",
       "      <th>marital</th>\n",
       "      <th>default</th>\n",
       "      <th>balance</th>\n",
       "      <th>housing</th>\n",
       "      <th>loan</th>\n",
       "      <th>poutcome</th>\n",
       "      <th>y</th>\n",
       "    </tr>\n",
       "  </thead>\n",
       "  <tbody>\n",
       "    <tr>\n",
       "      <th>0</th>\n",
       "      <td>58</td>\n",
       "      <td>management</td>\n",
       "      <td>married</td>\n",
       "      <td>no</td>\n",
       "      <td>2143</td>\n",
       "      <td>yes</td>\n",
       "      <td>no</td>\n",
       "      <td>unknown</td>\n",
       "      <td>no</td>\n",
       "    </tr>\n",
       "    <tr>\n",
       "      <th>1</th>\n",
       "      <td>44</td>\n",
       "      <td>technician</td>\n",
       "      <td>single</td>\n",
       "      <td>no</td>\n",
       "      <td>29</td>\n",
       "      <td>yes</td>\n",
       "      <td>no</td>\n",
       "      <td>unknown</td>\n",
       "      <td>no</td>\n",
       "    </tr>\n",
       "    <tr>\n",
       "      <th>2</th>\n",
       "      <td>33</td>\n",
       "      <td>entrepreneur</td>\n",
       "      <td>married</td>\n",
       "      <td>no</td>\n",
       "      <td>2</td>\n",
       "      <td>yes</td>\n",
       "      <td>yes</td>\n",
       "      <td>unknown</td>\n",
       "      <td>no</td>\n",
       "    </tr>\n",
       "    <tr>\n",
       "      <th>3</th>\n",
       "      <td>47</td>\n",
       "      <td>blue-collar</td>\n",
       "      <td>married</td>\n",
       "      <td>no</td>\n",
       "      <td>1506</td>\n",
       "      <td>yes</td>\n",
       "      <td>no</td>\n",
       "      <td>unknown</td>\n",
       "      <td>no</td>\n",
       "    </tr>\n",
       "    <tr>\n",
       "      <th>4</th>\n",
       "      <td>33</td>\n",
       "      <td>unknown</td>\n",
       "      <td>single</td>\n",
       "      <td>no</td>\n",
       "      <td>1</td>\n",
       "      <td>no</td>\n",
       "      <td>no</td>\n",
       "      <td>unknown</td>\n",
       "      <td>no</td>\n",
       "    </tr>\n",
       "  </tbody>\n",
       "</table>\n",
       "</div>"
      ],
      "text/plain": [
       "   age           job  marital default  balance housing loan poutcome   y\n",
       "0   58    management  married      no     2143     yes   no  unknown  no\n",
       "1   44    technician   single      no       29     yes   no  unknown  no\n",
       "2   33  entrepreneur  married      no        2     yes  yes  unknown  no\n",
       "3   47   blue-collar  married      no     1506     yes   no  unknown  no\n",
       "4   33       unknown   single      no        1      no   no  unknown  no"
      ]
     },
     "execution_count": 4,
     "metadata": {},
     "output_type": "execute_result"
    }
   ],
   "source": [
    "del_col = ['education', 'contact', 'day', 'month', 'duration', 'campaign', 'pdays', 'previous']\n",
    "df_bank.drop(del_col, axis=1, inplace=True)\n",
    "df_bank.head()"
   ]
  },
  {
   "cell_type": "markdown",
   "metadata": {},
   "source": [
    "Memvisualisasikan kolom tertentu untuk melihat persebaran datanya"
   ]
  },
  {
   "cell_type": "code",
   "execution_count": 5,
   "metadata": {},
   "outputs": [
    {
     "data": {
      "image/png": "[encoded data removed]",
      "text/plain": [
       "<Figure size 432x288 with 1 Axes>"
      ]
     },
     "metadata": {
      "needs_background": "light"
     },
     "output_type": "display_data"
    }
   ],
   "source": [
    "df_bank.age.plot(kind='hist');\n",
    "plt.title('Persebaran jumlah orang berdasarkan usia');\n",
    "plt.xlabel('Usia');\n",
    "plt.ylabel('Jumlah');"
   ]
  },
  {
   "cell_type": "markdown",
   "metadata": {},
   "source": [
    "Dari hasil visualisasi diketahui bahwa persebaran data dari orang-orang yang ada di dataset paling banyak berusia 40 tahun"
   ]
  },
  {
   "cell_type": "code",
   "execution_count": 6,
   "metadata": {},
   "outputs": [
    {
     "data": {
      "image/png": "[encoded data removed]",
      "text/plain": [
       "<Figure size 432x288 with 1 Axes>"
      ]
     },
     "metadata": {
      "needs_background": "light"
     },
     "output_type": "display_data"
    }
   ],
   "source": [
    "df_bank.job.value_counts().plot(kind='bar');\n",
    "plt.title('Perbandingan jumlah orang berdasarkan pekerjaan');\n",
    "plt.ylabel('Jumlah');"
   ]
  },
  {
   "cell_type": "markdown",
   "metadata": {},
   "source": [
    "Dari hasil visualisasi diketahui bahwa persebaran data dari orang-orang yang ada di dataset paling banyak adalah bekerja sebagai buruh"
   ]
  },
  {
   "cell_type": "markdown",
   "metadata": {},
   "source": [
    "Mengecek kembali informasi data untuk menentukan kolom manakah yang bertipe numerik dan kategorik"
   ]
  },
  {
   "cell_type": "code",
   "execution_count": 7,
   "metadata": {},
   "outputs": [
    {
     "name": "stdout",
     "output_type": "stream",
     "text": [
      "<class 'pandas.core.frame.DataFrame'>\n",
      "RangeIndex: 45211 entries, 0 to 45210\n",
      "Data columns (total 9 columns):\n",
      " #   Column    Non-Null Count  Dtype \n",
      "---  ------    --------------  ----- \n",
      " 0   age       45211 non-null  int64 \n",
      " 1   job       45211 non-null  object\n",
      " 2   marital   45211 non-null  object\n",
      " 3   default   45211 non-null  object\n",
      " 4   balance   45211 non-null  int64 \n",
      " 5   housing   45211 non-null  object\n",
      " 6   loan      45211 non-null  object\n",
      " 7   poutcome  45211 non-null  object\n",
      " 8   y         45211 non-null  object\n",
      "dtypes: int64(2), object(7)\n",
      "memory usage: 3.1+ MB\n"
     ]
    }
   ],
   "source": [
    "df_bank.info()"
   ]
  },
  {
   "cell_type": "markdown",
   "metadata": {},
   "source": [
    "Memisahkan antara data latih dan data uji"
   ]
  },
  {
   "cell_type": "code",
   "execution_count": 8,
   "metadata": {},
   "outputs": [],
   "source": [
    "from sklearn.model_selection import train_test_split as tts\n",
    "# pisahkan fitur & label\n",
    "X = df_bank.drop('y', axis=1)\n",
    "y = df_bank['y']\n",
    "\n",
    "# split data\n",
    "X_train, X_test, y_train, y_test = tts(X, y, test_size=0.2, random_state=46)"
   ]
  },
  {
   "cell_type": "markdown",
   "metadata": {},
   "source": [
    "Memisahkan kolom bertipe numerik dan kategorik dikarenakan proses prepocessingnya berbeda"
   ]
  },
  {
   "cell_type": "code",
   "execution_count": 9,
   "metadata": {},
   "outputs": [],
   "source": [
    "num_col = ['age', 'balance']\n",
    "cat_col = ['job', 'marital', 'default', 'housing', 'loan', 'poutcome']"
   ]
  },
  {
   "cell_type": "markdown",
   "metadata": {},
   "source": [
    "Melakukan scaling dengan MinMaxScaler agar lebih mudah mengilustrasikan"
   ]
  },
  {
   "cell_type": "code",
   "execution_count": 10,
   "metadata": {},
   "outputs": [],
   "source": [
    "# scaling kolom numerik\n",
    "from sklearn.preprocessing import MinMaxScaler\n",
    "\n",
    "scaler = MinMaxScaler()\n",
    "scaler.fit(X_train[num_col])\n",
    "\n",
    "X_train_num = scaler.transform(X_train[num_col])\n",
    "X_test_num = scaler.transform(X_test[num_col])"
   ]
  },
  {
   "cell_type": "code",
   "execution_count": 11,
   "metadata": {},
   "outputs": [
    {
     "data": {
      "text/plain": [
       "(array([[0.23376623, 0.12105751],\n",
       "        [0.4025974 , 0.27725927],\n",
       "        [0.22077922, 0.07372941],\n",
       "        ...,\n",
       "        [0.4025974 , 0.07526374],\n",
       "        [0.50649351, 0.08968097],\n",
       "        [0.11688312, 0.06878144]]),\n",
       " array([[0.23376623, 0.10900986],\n",
       "        [0.12987013, 0.07584479],\n",
       "        [0.33766234, 0.08467852],\n",
       "        ...,\n",
       "        [0.35064935, 0.07539084],\n",
       "        [0.36363636, 0.10283624],\n",
       "        [0.4025974 , 0.07086049]]))"
      ]
     },
     "execution_count": 11,
     "metadata": {},
     "output_type": "execute_result"
    }
   ],
   "source": [
    "X_train_num, X_test_num"
   ]
  },
  {
   "cell_type": "markdown",
   "metadata": {},
   "source": [
    "Mengubah data yang bertipe kategori menjadi numerik dengan LabelEncoder"
   ]
  },
  {
   "cell_type": "code",
   "execution_count": 12,
   "metadata": {},
   "outputs": [],
   "source": [
    "# encoding kolom kategorik\n",
    "from sklearn.preprocessing import LabelEncoder\n",
    "\n",
    "le = LabelEncoder()\n",
    "\n",
    "X_train_cat = []\n",
    "X_test_cat = []\n",
    "\n",
    "for i in cat_col:\n",
    "    le.fit(X_train[i])\n",
    "    arr_train = [le.transform(X_train[i])]\n",
    "    arr_test = [le.transform(X_test[i])]\n",
    "\n",
    "    # seleksi kondisi disini diperlukan karena fungsi concat tidak dapat dilakukan pada list atau array kosong\n",
    "    if i == 'job':\n",
    "        X_train_cat = arr_train\n",
    "        X_test_cat = arr_test\n",
    "    else:\n",
    "        X_train_cat = np.concatenate((X_train_cat, arr_train))\n",
    "        X_test_cat = np.concatenate((X_test_cat, arr_test))"
   ]
  },
  {
   "cell_type": "markdown",
   "metadata": {},
   "source": [
    "Dikarenakan prosesnya dilakukan per kolom maka hasilnya perlu ditranspose terlebih dahulu"
   ]
  },
  {
   "cell_type": "code",
   "execution_count": 13,
   "metadata": {},
   "outputs": [
    {
     "data": {
      "text/plain": [
       "(array([[7, 2, 0, 1, 0, 3],\n",
       "        [4, 1, 0, 0, 0, 3],\n",
       "        [1, 1, 0, 1, 0, 3],\n",
       "        ...,\n",
       "        [4, 1, 0, 1, 0, 3],\n",
       "        [1, 1, 0, 1, 0, 3],\n",
       "        [1, 1, 0, 0, 1, 3]]),\n",
       " array([[ 7,  1,  0,  1,  1,  3],\n",
       "        [ 1,  1,  0,  1,  0,  2],\n",
       "        [ 1,  2,  0,  0,  1,  3],\n",
       "        ...,\n",
       "        [ 9,  1,  0,  0,  0,  3],\n",
       "        [ 9,  1,  0,  0,  0,  3],\n",
       "        [10,  0,  0,  1,  0,  3]]))"
      ]
     },
     "execution_count": 13,
     "metadata": {},
     "output_type": "execute_result"
    }
   ],
   "source": [
    "X_train_cat = X_train_cat.T\n",
    "X_test_cat = X_test_cat.T\n",
    "\n",
    "X_train_cat, X_test_cat"
   ]
  },
  {
   "cell_type": "markdown",
   "metadata": {},
   "source": [
    "Menggabungkan kembali data numerik dan kategorik"
   ]
  },
  {
   "cell_type": "code",
   "execution_count": 14,
   "metadata": {},
   "outputs": [
    {
     "data": {
      "text/plain": [
       "((36168, 8), (9043, 8))"
      ]
     },
     "execution_count": 14,
     "metadata": {},
     "output_type": "execute_result"
    }
   ],
   "source": [
    "X_train_all = np.column_stack((X_train_num, X_train_cat))\n",
    "X_test_all = np.column_stack((X_test_num, X_test_cat))\n",
    "\n",
    "X_train_all.shape, X_test_all.shape"
   ]
  },
  {
   "cell_type": "markdown",
   "metadata": {},
   "source": [
    "#### Machine Learning"
   ]
  },
  {
   "cell_type": "markdown",
   "metadata": {},
   "source": [
    "##### Import Library"
   ]
  },
  {
   "cell_type": "code",
   "execution_count": 15,
   "metadata": {},
   "outputs": [],
   "source": [
    "# machine learning\n",
    "from sklearn.linear_model import LogisticRegression\n",
    "from sklearn.neighbors import KNeighborsClassifier\n",
    "from sklearn.svm import LinearSVC\n",
    "from sklearn.tree import DecisionTreeClassifier\n",
    "from sklearn.ensemble import RandomForestClassifier\n",
    "from sklearn.naive_bayes import GaussianNB\n",
    "from sklearn.metrics import classification_report\n",
    "\n",
    "np.warnings.filterwarnings('ignore')"
   ]
  },
  {
   "cell_type": "markdown",
   "metadata": {},
   "source": [
    "##### 1. Logistic Regression"
   ]
  },
  {
   "cell_type": "code",
   "execution_count": 16,
   "metadata": {},
   "outputs": [
    {
     "name": "stdout",
     "output_type": "stream",
     "text": [
      "              precision    recall  f1-score   support\n",
      "\n",
      "          no       0.88      1.00      0.94      7960\n",
      "         yes       0.00      0.00      0.00      1083\n",
      "\n",
      "    accuracy                           0.88      9043\n",
      "   macro avg       0.44      0.50      0.47      9043\n",
      "weighted avg       0.77      0.88      0.82      9043\n",
      "\n"
     ]
    }
   ],
   "source": [
    "# train model logreg\n",
    "logreg = LogisticRegression()\n",
    "logreg.fit(X_train_all, y_train)\n",
    "\n",
    "# testing\n",
    "y_pred = logreg.predict(X_test_all)\n",
    "\n",
    "# evaluasi\n",
    "print(classification_report(y_test, y_pred))"
   ]
  },
  {
   "cell_type": "markdown",
   "metadata": {},
   "source": [
    "Dari hasil classification report dapat dilihat hasil dari precision, recall, f1-score untuk masing-masing ketika menjadi data positif. Lalu untuk bagian support adalah total data pada masing-masing label.\n",
    "\n",
    "Lalu juga diketahui hasil akurasi dari model ini adalah 88%."
   ]
  },
  {
   "cell_type": "markdown",
   "metadata": {},
   "source": [
    "##### 2. K-Nearest Neighbor"
   ]
  },
  {
   "cell_type": "code",
   "execution_count": 17,
   "metadata": {},
   "outputs": [
    {
     "name": "stdout",
     "output_type": "stream",
     "text": [
      "              precision    recall  f1-score   support\n",
      "\n",
      "          no       0.90      0.98      0.93      7960\n",
      "         yes       0.49      0.18      0.26      1083\n",
      "\n",
      "    accuracy                           0.88      9043\n",
      "   macro avg       0.70      0.58      0.60      9043\n",
      "weighted avg       0.85      0.88      0.85      9043\n",
      "\n"
     ]
    }
   ],
   "source": [
    "# train model knn\n",
    "knn = KNeighborsClassifier()\n",
    "knn.fit(X_train_all, y_train)\n",
    "\n",
    "# testing\n",
    "y_pred = knn.predict(X_test_all)\n",
    "\n",
    "# evaluasi\n",
    "print(classification_report(y_test, y_pred))"
   ]
  },
  {
   "cell_type": "markdown",
   "metadata": {},
   "source": [
    "Dari hasil classification report dapat dilihat hasil dari precision, recall, f1-score untuk masing-masing ketika menjadi data positif. Lalu untuk bagian support adalah total data pada masing-masing label.\n",
    "\n",
    "Lalu juga diketahui hasil akurasi dari model ini adalah 88%."
   ]
  },
  {
   "cell_type": "markdown",
   "metadata": {},
   "source": [
    "##### 3. Support Vector Machine"
   ]
  },
  {
   "cell_type": "code",
   "execution_count": 18,
   "metadata": {},
   "outputs": [
    {
     "name": "stdout",
     "output_type": "stream",
     "text": [
      "              precision    recall  f1-score   support\n",
      "\n",
      "          no       0.88      1.00      0.94      7960\n",
      "         yes       0.00      0.00      0.00      1083\n",
      "\n",
      "    accuracy                           0.88      9043\n",
      "   macro avg       0.44      0.50      0.47      9043\n",
      "weighted avg       0.77      0.88      0.82      9043\n",
      "\n"
     ]
    }
   ],
   "source": [
    "# train model svm\n",
    "svm = LinearSVC()\n",
    "svm.fit(X_train_all, y_train)\n",
    "\n",
    "# testing\n",
    "y_pred = svm.predict(X_test_all)\n",
    "\n",
    "# evaluasi\n",
    "print(classification_report(y_test, y_pred))"
   ]
  },
  {
   "cell_type": "markdown",
   "metadata": {},
   "source": [
    "Dari hasil classification report dapat dilihat hasil dari precision, recall, f1-score untuk masing-masing ketika menjadi data positif. Lalu untuk bagian support adalah total data pada masing-masing label.\n",
    "\n",
    "Lalu juga diketahui hasil akurasi dari model ini adalah 88%."
   ]
  },
  {
   "cell_type": "markdown",
   "metadata": {},
   "source": [
    "##### 4. Decision Tree"
   ]
  },
  {
   "cell_type": "code",
   "execution_count": 19,
   "metadata": {},
   "outputs": [
    {
     "name": "stdout",
     "output_type": "stream",
     "text": [
      "              precision    recall  f1-score   support\n",
      "\n",
      "          no       0.90      0.89      0.89      7960\n",
      "         yes       0.23      0.25      0.24      1083\n",
      "\n",
      "    accuracy                           0.81      9043\n",
      "   macro avg       0.56      0.57      0.56      9043\n",
      "weighted avg       0.82      0.81      0.81      9043\n",
      "\n"
     ]
    }
   ],
   "source": [
    "# train model decision tree\n",
    "tree = DecisionTreeClassifier()\n",
    "tree.fit(X_train_all, y_train)\n",
    "\n",
    "# testing\n",
    "y_pred = tree.predict(X_test_all)\n",
    "\n",
    "# evaluasi\n",
    "print(classification_report(y_test, y_pred))"
   ]
  },
  {
   "cell_type": "markdown",
   "metadata": {},
   "source": [
    "Dari hasil classification report dapat dilihat hasil dari precision, recall, f1-score untuk masing-masing ketika menjadi data positif. Lalu untuk bagian support adalah total data pada masing-masing label.\n",
    "\n",
    "Lalu juga diketahui hasil akurasi dari model ini adalah 81%."
   ]
  },
  {
   "cell_type": "markdown",
   "metadata": {},
   "source": [
    "##### 5. Random Forest"
   ]
  },
  {
   "cell_type": "code",
   "execution_count": 20,
   "metadata": {},
   "outputs": [
    {
     "name": "stdout",
     "output_type": "stream",
     "text": [
      "              precision    recall  f1-score   support\n",
      "\n",
      "          no       0.90      0.96      0.93      7960\n",
      "         yes       0.43      0.21      0.28      1083\n",
      "\n",
      "    accuracy                           0.87      9043\n",
      "   macro avg       0.67      0.59      0.61      9043\n",
      "weighted avg       0.84      0.87      0.85      9043\n",
      "\n"
     ]
    }
   ],
   "source": [
    "# random forest\n",
    "rf = RandomForestClassifier()\n",
    "rf.fit(X_train_all, y_train)\n",
    "\n",
    "# testing\n",
    "y_pred = rf.predict(X_test_all)\n",
    "\n",
    "# evaluasi\n",
    "print(classification_report(y_test, y_pred))"
   ]
  },
  {
   "cell_type": "markdown",
   "metadata": {},
   "source": [
    "Dari hasil classification report dapat dilihat hasil dari precision, recall, f1-score untuk masing-masing ketika menjadi data positif. Lalu untuk bagian support adalah total data pada masing-masing label.\n",
    "\n",
    "Lalu juga diketahui hasil akurasi dari model ini adalah 87%."
   ]
  },
  {
   "cell_type": "markdown",
   "metadata": {},
   "source": [
    "##### 6. Naive Bayes"
   ]
  },
  {
   "cell_type": "code",
   "execution_count": 21,
   "metadata": {},
   "outputs": [
    {
     "name": "stdout",
     "output_type": "stream",
     "text": [
      "              precision    recall  f1-score   support\n",
      "\n",
      "          no       0.89      0.97      0.93      7960\n",
      "         yes       0.30      0.10      0.15      1083\n",
      "\n",
      "    accuracy                           0.86      9043\n",
      "   macro avg       0.60      0.54      0.54      9043\n",
      "weighted avg       0.82      0.86      0.83      9043\n",
      "\n"
     ]
    }
   ],
   "source": [
    "# naive bayes\n",
    "nb = GaussianNB()\n",
    "nb.fit(X_train_all, y_train)\n",
    "\n",
    "# testing\n",
    "y_pred = nb.predict(X_test_all)\n",
    "\n",
    "# evaluasi\n",
    "print(classification_report(y_test, y_pred))"
   ]
  },
  {
   "cell_type": "markdown",
   "metadata": {},
   "source": [
    "Dari hasil classification report dapat dilihat hasil dari precision, recall, f1-score untuk masing-masing ketika menjadi data positif. Lalu untuk bagian support adalah total data pada masing-masing label.\n",
    "\n",
    "Lalu juga diketahui hasil akurasi dari model ini adalah 86%."
   ]
  },
  {
   "cell_type": "markdown",
   "metadata": {},
   "source": [
    "Dari seluruh model yang digunakan yang memperoleh akurasi tertinggi dalam memproses dataset sebelumnya adalah model Logistic Regression, K-Nearest Neighbor, dan Support Vector Machine dengan tingkat akurasi 88%"
   ]
  },
  {
   "cell_type": "code",
   "execution_count": null,
   "metadata": {},
   "outputs": [],
   "source": []
  }
 ],
 "metadata": {
  "interpreter": {
   "hash": "b2ac88caa15312ca0737f6843d610015956dc650632ca16538581948715401df"
  },
  "kernelspec": {
   "display_name": "Python 3.9.7 ('base')",
   "language": "python",
   "name": "python3"
  },
  "language_info": {
   "codemirror_mode": {
    "name": "ipython",
    "version": 3
   },
   "file_extension": ".py",
   "mimetype": "text/x-python",
   "name": "python",
   "nbconvert_exporter": "python",
   "pygments_lexer": "ipython3",
   "version": "3.9.7"
  },
  "orig_nbformat": 4
 },
 "nbformat": 4,
 "nbformat_minor": 2
}
