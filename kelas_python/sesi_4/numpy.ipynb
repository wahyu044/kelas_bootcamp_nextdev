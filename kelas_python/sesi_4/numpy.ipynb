{
 "cells": [
  {
   "cell_type": "code",
   "execution_count": 1,
   "metadata": {},
   "outputs": [
    {
     "name": "stdout",
     "output_type": "stream",
     "text": [
      "[1, 2, 3, 5, 6, 7]\n"
     ]
    }
   ],
   "source": [
    "a = [1,2,3]\n",
    "b = [5,6,7]\n",
    "print(a+b)"
   ]
  },
  {
   "cell_type": "code",
   "execution_count": 7,
   "metadata": {},
   "outputs": [],
   "source": [
    "import numpy as np\n",
    "\n",
    "a = [1,2,3]\n",
    "np_a = np.array(a)\n",
    "b = [5,6,7]\n",
    "np_b = np.array(b)"
   ]
  },
  {
   "cell_type": "code",
   "execution_count": 5,
   "metadata": {},
   "outputs": [
    {
     "data": {
      "text/plain": [
       "list"
      ]
     },
     "execution_count": 5,
     "metadata": {},
     "output_type": "execute_result"
    }
   ],
   "source": [
    "type(a)"
   ]
  },
  {
   "cell_type": "code",
   "execution_count": 6,
   "metadata": {},
   "outputs": [
    {
     "data": {
      "text/plain": [
       "numpy.ndarray"
      ]
     },
     "execution_count": 6,
     "metadata": {},
     "output_type": "execute_result"
    }
   ],
   "source": [
    "type(np_a)"
   ]
  },
  {
   "cell_type": "code",
   "execution_count": 9,
   "metadata": {},
   "outputs": [
    {
     "data": {
      "text/plain": [
       "array([ 6,  8, 10])"
      ]
     },
     "execution_count": 9,
     "metadata": {},
     "output_type": "execute_result"
    }
   ],
   "source": [
    "np_a+np_b"
   ]
  },
  {
   "cell_type": "code",
   "execution_count": 11,
   "metadata": {},
   "outputs": [],
   "source": [
    "A = [[1,2,3],[4,5,6]]\n",
    "npa = np.array(A)"
   ]
  },
  {
   "cell_type": "code",
   "execution_count": 12,
   "metadata": {},
   "outputs": [
    {
     "data": {
      "text/plain": [
       "array([[1, 2, 3],\n",
       "       [4, 5, 6]])"
      ]
     },
     "execution_count": 12,
     "metadata": {},
     "output_type": "execute_result"
    }
   ],
   "source": [
    "npa"
   ]
  },
  {
   "cell_type": "code",
   "execution_count": 13,
   "metadata": {},
   "outputs": [],
   "source": [
    "# vektor\n",
    "a = [1,2,3]\n",
    "np_a = np.array(a)\n",
    "b = [5,6,7]\n",
    "np_b = np.array(b)"
   ]
  },
  {
   "cell_type": "code",
   "execution_count": 14,
   "metadata": {},
   "outputs": [
    {
     "name": "stdout",
     "output_type": "stream",
     "text": [
      "[ 6  8 10]\n",
      "[-4 -4 -4]\n"
     ]
    }
   ],
   "source": [
    "print(np_a+np_b)\n",
    "print(np_a-np_b)"
   ]
  },
  {
   "cell_type": "code",
   "execution_count": 15,
   "metadata": {},
   "outputs": [
    {
     "name": "stdout",
     "output_type": "stream",
     "text": [
      "38\n"
     ]
    }
   ],
   "source": [
    "# dot product\n",
    "dot_product = np_a @ np_b\n",
    "print(dot_product)"
   ]
  },
  {
   "cell_type": "code",
   "execution_count": 16,
   "metadata": {},
   "outputs": [
    {
     "name": "stdout",
     "output_type": "stream",
     "text": [
      "[-4  8 -4]\n"
     ]
    }
   ],
   "source": [
    "# cross product\n",
    "cross_product = np.cross(np_a, np_b)\n",
    "print(cross_product)"
   ]
  },
  {
   "cell_type": "code",
   "execution_count": 17,
   "metadata": {},
   "outputs": [],
   "source": [
    "from numpy.linalg import norm"
   ]
  },
  {
   "cell_type": "code",
   "execution_count": 19,
   "metadata": {},
   "outputs": [
    {
     "data": {
      "text/plain": [
       "3.7416573867739413"
      ]
     },
     "execution_count": 19,
     "metadata": {},
     "output_type": "execute_result"
    }
   ],
   "source": [
    "norm(a)"
   ]
  },
  {
   "cell_type": "code",
   "execution_count": 21,
   "metadata": {},
   "outputs": [
    {
     "data": {
      "text/plain": [
       "3.7416573867739413"
      ]
     },
     "execution_count": 21,
     "metadata": {},
     "output_type": "execute_result"
    }
   ],
   "source": [
    "np.sqrt(14)"
   ]
  },
  {
   "cell_type": "code",
   "execution_count": 23,
   "metadata": {},
   "outputs": [],
   "source": [
    "A = np.array([[1,2,3],[4,5,6],[7,8,9]])"
   ]
  },
  {
   "cell_type": "code",
   "execution_count": 24,
   "metadata": {},
   "outputs": [
    {
     "data": {
      "text/plain": [
       "array([[1, 2, 3],\n",
       "       [4, 5, 6],\n",
       "       [7, 8, 9]])"
      ]
     },
     "execution_count": 24,
     "metadata": {},
     "output_type": "execute_result"
    }
   ],
   "source": [
    "A"
   ]
  },
  {
   "cell_type": "code",
   "execution_count": 26,
   "metadata": {},
   "outputs": [],
   "source": [
    "I = np.eye(3)"
   ]
  },
  {
   "cell_type": "code",
   "execution_count": 28,
   "metadata": {},
   "outputs": [
    {
     "data": {
      "text/plain": [
       "array([[1., 2., 3.],\n",
       "       [4., 5., 6.],\n",
       "       [7., 8., 9.]])"
      ]
     },
     "execution_count": 28,
     "metadata": {},
     "output_type": "execute_result"
    }
   ],
   "source": [
    "A @ I"
   ]
  },
  {
   "cell_type": "code",
   "execution_count": 31,
   "metadata": {},
   "outputs": [
    {
     "data": {
      "text/plain": [
       "array([[-5.,  3.],\n",
       "       [ 2., -1.]])"
      ]
     },
     "execution_count": 31,
     "metadata": {},
     "output_type": "execute_result"
    }
   ],
   "source": [
    "from numpy.linalg import inv\n",
    "\n",
    "B = np.array([[1,3],[2,5]])\n",
    "inv_B = inv(B)\n",
    "inv_B"
   ]
  },
  {
   "cell_type": "code",
   "execution_count": 32,
   "metadata": {},
   "outputs": [
    {
     "data": {
      "text/plain": [
       "array([[1., 0.],\n",
       "       [0., 1.]])"
      ]
     },
     "execution_count": 32,
     "metadata": {},
     "output_type": "execute_result"
    }
   ],
   "source": [
    "B @ inv_B"
   ]
  },
  {
   "cell_type": "code",
   "execution_count": 33,
   "metadata": {},
   "outputs": [
    {
     "data": {
      "text/plain": [
       "array([1, 2, 3, 4, 5, 6, 7, 8, 9, 0])"
      ]
     },
     "execution_count": 33,
     "metadata": {},
     "output_type": "execute_result"
    }
   ],
   "source": [
    "a = np.array([1,2,3,4,5,6,7,8,9,0])\n",
    "a"
   ]
  },
  {
   "cell_type": "code",
   "execution_count": 34,
   "metadata": {},
   "outputs": [
    {
     "data": {
      "text/plain": [
       "array([False,  True, False,  True, False,  True, False,  True, False,\n",
       "        True])"
      ]
     },
     "execution_count": 34,
     "metadata": {},
     "output_type": "execute_result"
    }
   ],
   "source": [
    "a % 2 == 0"
   ]
  },
  {
   "cell_type": "code",
   "execution_count": 37,
   "metadata": {},
   "outputs": [
    {
     "data": {
      "text/plain": [
       "array([1, 3, 5, 7, 9])"
      ]
     },
     "execution_count": 37,
     "metadata": {},
     "output_type": "execute_result"
    }
   ],
   "source": [
    "# masking a[kondisi]\n",
    "a[a % 2 == 1]"
   ]
  },
  {
   "cell_type": "code",
   "execution_count": 38,
   "metadata": {},
   "outputs": [
    {
     "data": {
      "text/plain": [
       "45"
      ]
     },
     "execution_count": 38,
     "metadata": {},
     "output_type": "execute_result"
    }
   ],
   "source": [
    "A.sum()"
   ]
  },
  {
   "cell_type": "code",
   "execution_count": 41,
   "metadata": {},
   "outputs": [
    {
     "data": {
      "text/plain": [
       "array([12, 15, 18])"
      ]
     },
     "execution_count": 41,
     "metadata": {},
     "output_type": "execute_result"
    }
   ],
   "source": [
    "A.sum(axis=0) #perkolom"
   ]
  },
  {
   "cell_type": "code",
   "execution_count": 42,
   "metadata": {},
   "outputs": [
    {
     "data": {
      "text/plain": [
       "array([ 6, 15, 24])"
      ]
     },
     "execution_count": 42,
     "metadata": {},
     "output_type": "execute_result"
    }
   ],
   "source": [
    "A.sum(axis=1) #perbaris"
   ]
  },
  {
   "cell_type": "code",
   "execution_count": 48,
   "metadata": {},
   "outputs": [
    {
     "data": {
      "text/plain": [
       "array([91.46022269, 71.8801173 , 76.74056014, 86.53924767, 73.48617275,\n",
       "       77.73463915, 74.22397171, 69.25325788, 89.62480398, 79.97989682,\n",
       "       80.11293619, 73.75220855, 91.45161126, 76.65002843, 78.24656766,\n",
       "       87.23279896, 70.50115847, 79.45922532, 81.449279  , 68.24326285,\n",
       "       73.68694116, 83.07602457, 69.19769311, 86.99935885, 77.89824052,\n",
       "       71.60011181, 77.71805122, 75.23824966, 87.75172039, 72.78791924,\n",
       "       78.28602094, 63.95304623, 72.19437292, 80.78265283, 70.08660838,\n",
       "       84.4267315 , 67.9976985 , 78.11134081, 76.67572279, 70.5627841 ,\n",
       "       87.81980454, 74.07593349, 76.98376579, 69.16400768, 83.8327376 ,\n",
       "       74.97402906, 74.09822491, 88.4551154 , 80.77141593, 78.86854228])"
      ]
     },
     "execution_count": 48,
     "metadata": {},
     "output_type": "execute_result"
    }
   ],
   "source": [
    "# dosen dengan 50 mhs\n",
    "# tugas, prak, uts, uas\n",
    "# NA = 10% tugas + 15% prak + 35% uts + 40% uas\n",
    "# nilai_tugas = np.random.normal(rata\", standar deviasi, size=(50,))\n",
    "nilai_tugas = np.random.normal(80, 7, size=(50,))\n",
    "nilai_tugas"
   ]
  },
  {
   "cell_type": "code",
   "execution_count": 49,
   "metadata": {},
   "outputs": [
    {
     "data": {
      "text/plain": [
       "array([86.06430129, 86.50388695, 92.23759191, 92.03591847, 89.60336869,\n",
       "       92.15284649, 88.87043768, 86.77795546, 91.85798715, 89.50818363,\n",
       "       91.46183496, 92.74788437, 91.77071894, 92.72765228, 91.47960632,\n",
       "       86.80755896, 91.3147784 , 88.91675111, 95.00325055, 89.62612705,\n",
       "       89.2108787 , 88.11391189, 87.72393339, 90.95605357, 87.77988376,\n",
       "       90.5252849 , 94.1717886 , 88.76560365, 85.81852553, 87.09263733,\n",
       "       93.25425268, 90.8714552 , 89.4465614 , 89.93508943, 91.62996042,\n",
       "       88.51969683, 88.68384289, 90.96819404, 89.88038696, 89.08246697,\n",
       "       90.33966522, 89.66822078, 89.32174349, 90.65118666, 90.82291335,\n",
       "       85.10538267, 90.93710603, 90.6521171 , 87.51209647, 87.79147941])"
      ]
     },
     "execution_count": 49,
     "metadata": {},
     "output_type": "execute_result"
    }
   ],
   "source": [
    "nilai_prak = np.random.normal(90, 2, size=(50,))\n",
    "nilai_prak"
   ]
  },
  {
   "cell_type": "code",
   "execution_count": 50,
   "metadata": {},
   "outputs": [
    {
     "data": {
      "text/plain": [
       "array([58.41243394, 74.00808588, 71.31411833, 76.95911329, 48.86982785,\n",
       "       84.75222394, 35.69267925, 51.48139816, 52.31167451, 28.47126611,\n",
       "       38.92524205, 71.68947864, 41.72734609, 57.90620047, 77.41245534,\n",
       "       56.59581897, 45.79930101, 80.57632424, 57.21096483, 46.4510103 ,\n",
       "       42.15293281, 43.60044013, 56.21052254, 43.23293745, 44.15657019,\n",
       "       54.18947688, 63.69853802, 57.03474663, 48.69049556, 62.15595761,\n",
       "       49.24322518, 68.69764322, 69.70815224, 81.78159476, 52.97770102,\n",
       "       69.87325184, 50.44372394, 48.7784178 , 48.27500181, 71.446933  ,\n",
       "       38.37349318, 74.75940559, 70.12259359, 45.43771921, 57.98582133,\n",
       "       71.91729153, 53.13727386, 72.4342222 , 46.91107456, 89.11146982])"
      ]
     },
     "execution_count": 50,
     "metadata": {},
     "output_type": "execute_result"
    }
   ],
   "source": [
    "nilai_uts = np.random.normal(63, 15, size=(50,))\n",
    "nilai_uts"
   ]
  },
  {
   "cell_type": "code",
   "execution_count": 51,
   "metadata": {},
   "outputs": [
    {
     "data": {
      "text/plain": [
       "array([70.21196063, 78.43346436, 83.49248988, 82.49771699, 80.70388804,\n",
       "       77.54043235, 70.94049067, 70.45940189, 82.50698891, 67.43840099,\n",
       "       76.95815608, 80.70741798, 73.99175898, 72.72738785, 65.79271683,\n",
       "       84.60759734, 70.38409473, 92.3671543 , 83.71753938, 55.41517404,\n",
       "       69.10313695, 84.09364707, 55.80354151, 79.43976294, 62.75407776,\n",
       "       63.78667216, 98.13802709, 68.68824863, 70.17366271, 75.89814575,\n",
       "       71.95838847, 74.63851963, 88.88360468, 60.77201455, 83.41556998,\n",
       "       78.80732177, 67.30094581, 69.04883512, 66.03825537, 74.60977647,\n",
       "       77.19555634, 83.02160614, 68.31668997, 63.36736411, 67.03184495,\n",
       "       82.69494554, 74.97866017, 92.96348656, 80.06596641, 79.38436635])"
      ]
     },
     "execution_count": 51,
     "metadata": {},
     "output_type": "execute_result"
    }
   ],
   "source": [
    "nilai_uas = np.random.normal(75, 10, size=(50,))\n",
    "nilai_uas"
   ]
  },
  {
   "cell_type": "code",
   "execution_count": 52,
   "metadata": {},
   "outputs": [
    {
     "data": {
      "text/plain": [
       "array([70.5848036 , 77.43981058, 79.86663217, 82.39408898, 70.17511754,\n",
       "       82.27584221, 61.62159683, 66.14426922, 74.05306011, 58.36452076,\n",
       "       66.13766601, 78.66168823, 67.11204369, 70.93227599, 74.95804382,\n",
       "       75.39598932, 64.93072585, 86.4320104 , 75.90626893, 58.69216857,\n",
       "       63.14510719, 70.42230212, 62.07345881, 69.2507772 , 61.51323729,\n",
       "       65.21978969, 83.44727255, 68.27612629, 66.7590894 , 72.45653099,\n",
       "       67.8352242 , 73.92560588, 80.58771666, 74.50089268, 72.66157825,\n",
       "       77.69919453, 64.67802799, 66.14834346, 64.4611831 , 75.26898559,\n",
       "       66.64187539, 80.23226088, 72.96622185, 61.76422613, 69.1144862 ,\n",
       "       78.51224056, 69.63989832, 84.9807015 , 69.64921872, 83.99833712])"
      ]
     },
     "execution_count": 52,
     "metadata": {},
     "output_type": "execute_result"
    }
   ],
   "source": [
    "nilai_akhir = 0.1 * nilai_tugas + 0.15 * nilai_prak + 0.35 * nilai_uts + 0.4 * nilai_uas\n",
    "nilai_akhir"
   ]
  },
  {
   "cell_type": "code",
   "execution_count": 53,
   "metadata": {},
   "outputs": [
    {
     "data": {
      "text/plain": [
       "array([77.43981058, 79.86663217, 82.39408898, 82.27584221, 78.66168823,\n",
       "       75.39598932, 86.4320104 , 75.90626893, 83.44727255, 80.58771666,\n",
       "       77.69919453, 75.26898559, 80.23226088, 78.51224056, 84.9807015 ,\n",
       "       83.99833712])"
      ]
     },
     "execution_count": 53,
     "metadata": {},
     "output_type": "execute_result"
    }
   ],
   "source": [
    "nilai_akhir[nilai_akhir > 75]"
   ]
  },
  {
   "cell_type": "code",
   "execution_count": 54,
   "metadata": {},
   "outputs": [
    {
     "data": {
      "text/plain": [
       "array([ 1,  2,  3,  4,  5,  6,  7,  8,  9, 10, 11, 12, 13, 14, 15, 16, 17,\n",
       "       18, 19, 20, 21, 22, 23, 24, 25, 26, 27, 28, 29, 30, 31, 32, 33, 34,\n",
       "       35, 36, 37, 38, 39, 40, 41, 42, 43, 44, 45, 46, 47, 48, 49, 50])"
      ]
     },
     "execution_count": 54,
     "metadata": {},
     "output_type": "execute_result"
    }
   ],
   "source": [
    "absen = np.arange(1,51)\n",
    "absen"
   ]
  },
  {
   "cell_type": "code",
   "execution_count": 56,
   "metadata": {},
   "outputs": [
    {
     "data": {
      "text/plain": [
       "array([ 4,  6, 18, 27, 33, 42, 48, 50])"
      ]
     },
     "execution_count": 56,
     "metadata": {},
     "output_type": "execute_result"
    }
   ],
   "source": [
    "absen[nilai_akhir > 80]"
   ]
  },
  {
   "cell_type": "code",
   "execution_count": 57,
   "metadata": {},
   "outputs": [],
   "source": [
    "a = np.array([1,2,3,4,5,6,7,8,9,10])"
   ]
  },
  {
   "cell_type": "code",
   "execution_count": 58,
   "metadata": {},
   "outputs": [
    {
     "data": {
      "text/plain": [
       "array([7, 9])"
      ]
     },
     "execution_count": 58,
     "metadata": {},
     "output_type": "execute_result"
    }
   ],
   "source": [
    "a[(a % 2 == 1) & (a > 5)]"
   ]
  },
  {
   "cell_type": "code",
   "execution_count": 61,
   "metadata": {},
   "outputs": [
    {
     "data": {
      "text/plain": [
       "7"
      ]
     },
     "execution_count": 61,
     "metadata": {},
     "output_type": "execute_result"
    }
   ],
   "source": [
    "from random import randint\n",
    "\n",
    "randint(0, 9)"
   ]
  },
  {
   "cell_type": "code",
   "execution_count": null,
   "metadata": {},
   "outputs": [],
   "source": []
  }
 ],
 "metadata": {
  "interpreter": {
   "hash": "b2ac88caa15312ca0737f6843d610015956dc650632ca16538581948715401df"
  },
  "kernelspec": {
   "display_name": "Python 3.9.7 ('base')",
   "language": "python",
   "name": "python3"
  },
  "language_info": {
   "codemirror_mode": {
    "name": "ipython",
    "version": 3
   },
   "file_extension": ".py",
   "mimetype": "text/x-python",
   "name": "python",
   "nbconvert_exporter": "python",
   "pygments_lexer": "ipython3",
   "version": "3.9.7"
  },
  "orig_nbformat": 4
 },
 "nbformat": 4,
 "nbformat_minor": 2
}
