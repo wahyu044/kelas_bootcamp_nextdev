{
 "cells": [
  {
   "cell_type": "code",
   "execution_count": 4,
   "metadata": {},
   "outputs": [],
   "source": [
    "def kalkulator(angka_1, angka_2, operator):\n",
    "    \"\"\"\n",
    "    Soal 1 - Kalkulator\n",
    "    \"\"\"\n",
    "\n",
    "    hasil = \"Operasi tidak dikenal\"\n",
    "    \n",
    "    if operator == \"+\":\n",
    "        hasil = angka_1 + angka_2\n",
    "    elif operator == \"-\":\n",
    "        hasil = angka_1 - angka_2\n",
    "    elif operator == \"*\":\n",
    "        hasil = angka_1 * angka_2\n",
    "    elif operator == \"/\":\n",
    "        hasil = angka_1 / angka_2\n",
    "\n",
    "    return hasil\n"
   ]
  },
  {
   "cell_type": "code",
   "execution_count": 5,
   "metadata": {},
   "outputs": [
    {
     "data": {
      "text/plain": [
       "2"
      ]
     },
     "execution_count": 5,
     "metadata": {},
     "output_type": "execute_result"
    }
   ],
   "source": [
    "kalkulator(6, 4, \"-\")"
   ]
  },
  {
   "cell_type": "code",
   "execution_count": 6,
   "metadata": {},
   "outputs": [],
   "source": [
    "def palindrom(kata):\n",
    "    \"\"\"\n",
    "    Soal 2 - Cek Palindrom\n",
    "    \"\"\"\n",
    "\n",
    "    hasil = \"String yang anda masukkan bukan string palindrom\"\n",
    "\n",
    "    if kata == kata[::-1]:\n",
    "        hasil = \"String yang anda masukkan adalah string palindrom\"\n",
    "\n",
    "    return hasil"
   ]
  },
  {
   "cell_type": "code",
   "execution_count": 7,
   "metadata": {},
   "outputs": [
    {
     "data": {
      "text/plain": [
       "'String yang anda masukkan adalah string palindrom'"
      ]
     },
     "execution_count": 7,
     "metadata": {},
     "output_type": "execute_result"
    }
   ],
   "source": [
    "palindrom(\"kayak\")"
   ]
  },
  {
   "cell_type": "code",
   "execution_count": 8,
   "metadata": {},
   "outputs": [],
   "source": [
    "from random import random\n",
    "import math\n",
    "\n",
    "def tebak_angka(*tebakan):\n",
    "    \"\"\"\n",
    "    Soal 3 - Tebak Angka\n",
    "    \"\"\"\n",
    "\n",
    "    komputer = math.floor(random()*10)\n",
    "    cek = 0\n",
    "\n",
    "    for i in tebakan:\n",
    "        if i == komputer:\n",
    "            print(\"Anda menang\")\n",
    "            break\n",
    "        elif i > komputer:\n",
    "            print(\"Tebakan terlalu besar\")\n",
    "        else:\n",
    "            print(\"Tebakan terlalu kecil\")\n",
    "\n",
    "        cek += 1\n",
    "\n",
    "        if cek > 3:\n",
    "            print(\"Anda kalah\")\n",
    "            break\n",
    "    "
   ]
  },
  {
   "cell_type": "code",
   "execution_count": 9,
   "metadata": {},
   "outputs": [
    {
     "name": "stdout",
     "output_type": "stream",
     "text": [
      "Tebakan terlalu besar\n",
      "Tebakan terlalu besar\n",
      "Tebakan terlalu besar\n",
      "Tebakan terlalu besar\n",
      "Anda kalah\n"
     ]
    }
   ],
   "source": [
    "tebak_angka(5,3,6,4)"
   ]
  },
  {
   "cell_type": "code",
   "execution_count": 10,
   "metadata": {},
   "outputs": [],
   "source": [
    "def pesanan(*makanan):\n",
    "    \"\"\"\n",
    "    Soal 4 - Organisir Pesanan\n",
    "    \"\"\"\n",
    "\n",
    "    for i in makanan:\n",
    "        print(f\"Saya pesan {i}\")"
   ]
  },
  {
   "cell_type": "code",
   "execution_count": 11,
   "metadata": {},
   "outputs": [
    {
     "name": "stdout",
     "output_type": "stream",
     "text": [
      "Saya pesan soto\n",
      "Saya pesan bakso\n"
     ]
    }
   ],
   "source": [
    "pesanan(\"soto\", \"bakso\")"
   ]
  },
  {
   "cell_type": "code",
   "execution_count": 12,
   "metadata": {},
   "outputs": [],
   "source": [
    "def terbilang(angka):\n",
    "    \"\"\"\n",
    "    Soal 5 - Membuat angka menjadi terbilang\n",
    "    \"\"\"\n",
    "\n",
    "    satuan = [\" \", \"Satu\", \"Dua\", \"Tiga\", \"Empat\", \"Lima\", \"Enam\", \"Tujuh\", \"Delapan\", \"Sembilan\", \"Sepuluh\", \"Sebelas\"]\n",
    "    angka = int(angka)\n",
    "    hasil = \"Angka Harus > 0 dan < 1 Juta\"\n",
    "\n",
    "    if angka >= 0 and angka <= 11:\n",
    "        hasil = satuan[angka]\n",
    "    elif angka < 20:\n",
    "        hasil = terbilang(angka - 10) + \" Belas \"\n",
    "    elif angka < 100:\n",
    "        hasil = terbilang(angka / 10) + \" Puluh \" + terbilang(angka % 10)\n",
    "    elif angka < 200:\n",
    "        hasil = \" Seratus \" + terbilang(angka - 100)\n",
    "    elif angka < 1000:\n",
    "        hasil = terbilang(angka / 100) + \" Ratus \" + terbilang(angka % 100)\n",
    "    elif angka < 2000:\n",
    "        hasil = \" Seribu \" + terbilang(angka - 1000)\n",
    "    elif angka < 1000000:\n",
    "        hasil = terbilang(angka / 1000) + \" Ribu \" + terbilang(angka % 1000)\n",
    "    elif angka < 1000000000:\n",
    "        hasil = terbilang(angka / 1000000) + \" Juta \" + terbilang(angka % 1000000)\n",
    "    elif angka == 1000000000:\n",
    "        hasil = \"Satu Juta\"\n",
    "\n",
    "    return hasil"
   ]
  },
  {
   "cell_type": "code",
   "execution_count": 14,
   "metadata": {},
   "outputs": [
    {
     "data": {
      "text/plain": [
       "' Seratus Tujuh Puluh Sembilan'"
      ]
     },
     "execution_count": 14,
     "metadata": {},
     "output_type": "execute_result"
    }
   ],
   "source": [
    "terbilang(179)\n",
    "\n"
   ]
  },
  {
   "cell_type": "code",
   "execution_count": null,
   "metadata": {},
   "outputs": [],
   "source": []
  }
 ],
 "metadata": {
  "interpreter": {
   "hash": "b2ac88caa15312ca0737f6843d610015956dc650632ca16538581948715401df"
  },
  "kernelspec": {
   "display_name": "Python 3.9.7 ('base')",
   "language": "python",
   "name": "python3"
  },
  "language_info": {
   "codemirror_mode": {
    "name": "ipython",
    "version": 3
   },
   "file_extension": ".py",
   "mimetype": "text/x-python",
   "name": "python",
   "nbconvert_exporter": "python",
   "pygments_lexer": "ipython3",
   "version": "3.9.7"
  },
  "orig_nbformat": 4
 },
 "nbformat": 4,
 "nbformat_minor": 2
}
